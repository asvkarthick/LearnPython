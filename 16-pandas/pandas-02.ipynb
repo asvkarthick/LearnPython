{
 "cells": [
  {
   "cell_type": "code",
   "execution_count": 2,
   "metadata": {},
   "outputs": [],
   "source": [
    "import pandas as pd"
   ]
  },
  {
   "cell_type": "code",
   "execution_count": 3,
   "metadata": {},
   "outputs": [
    {
     "name": "stdout",
     "output_type": "stream",
     "text": [
      "  Unnamed: 0  Percentage     2/20/20     3/12/20       Diff\n",
      "0       TWLO  -31.331384  126.709999   87.010002 -39.699997\n",
      "1       CREE  -28.287336   49.279999   35.340000 -13.939999\n",
      "2       ROKU  -26.958417  124.080002   90.629997 -33.450005\n",
      "3       NVDA  -20.158733  308.700012  246.470001 -62.230011\n",
      "4       CHGG   -9.440468   40.570000   36.740002  -3.829998\n"
     ]
    }
   ],
   "source": [
    "data = pd.read_csv('nextgen.csv')\n",
    "print(data)"
   ]
  },
  {
   "cell_type": "code",
   "execution_count": 4,
   "metadata": {},
   "outputs": [
    {
     "name": "stdout",
     "output_type": "stream",
     "text": [
      "      Percentage     2/20/20     3/12/20       Diff\n",
      "TWLO  -31.331384  126.709999   87.010002 -39.699997\n",
      "CREE  -28.287336   49.279999   35.340000 -13.939999\n",
      "ROKU  -26.958417  124.080002   90.629997 -33.450005\n",
      "NVDA  -20.158733  308.700012  246.470001 -62.230011\n",
      "CHGG   -9.440468   40.570000   36.740002  -3.829998\n"
     ]
    }
   ],
   "source": [
    "data = pd.read_csv('nextgen.csv', index_col = 0)\n",
    "print(data)"
   ]
  }
 ],
 "metadata": {
  "kernelspec": {
   "display_name": "Python 3",
   "language": "python",
   "name": "python3"
  },
  "language_info": {
   "codemirror_mode": {
    "name": "ipython",
    "version": 3
   },
   "file_extension": ".py",
   "mimetype": "text/x-python",
   "name": "python",
   "nbconvert_exporter": "python",
   "pygments_lexer": "ipython3",
   "version": "3.7.6"
  }
 },
 "nbformat": 4,
 "nbformat_minor": 4
}
